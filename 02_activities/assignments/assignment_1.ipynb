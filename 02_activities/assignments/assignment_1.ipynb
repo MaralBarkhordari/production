{
 "cells": [
  {
   "cell_type": "markdown",
   "metadata": {},
   "source": [
    "# Working with parquet files\n",
    "\n",
    "## Objective\n",
    "\n",
    "+ In this assignment, we will use the data downloaded with the module `data_manager` to create features.\n",
    "\n",
    "(11 pts total)\n",
    "\n",
    "## Prerequisites\n",
    "\n",
    "+ This notebook assumes that price data is available to you in the environment variable `PRICE_DATA`. If you have not done so, then execute the notebook `01_materials/labs/2_data_engineering.ipynb` to create this data set.\n"
   ]
  },
  {
   "cell_type": "markdown",
   "metadata": {},
   "source": [
    "+ Load the environment variables using dotenv. (1 pt)"
   ]
  },
  {
   "cell_type": "code",
   "execution_count": 1,
   "metadata": {},
   "outputs": [],
   "source": [
    "# Write your code below.\n",
    "import os\n",
    "from dotenv import load_dotenv\n",
    "\n",
    "# Load environment variables\n",
    "load_dotenv()\n",
    "price_data_path = os.getenv(\"PRICE_DATA\")\n"
   ]
  },
  {
   "cell_type": "code",
   "execution_count": 2,
   "metadata": {},
   "outputs": [
    {
     "name": "stderr",
     "output_type": "stream",
     "text": [
      "/var/folders/05/303440ms08n6px86jhmyxqxm0000gn/T/ipykernel_339/676544213.py:1: DeprecationWarning: The current Dask DataFrame implementation is deprecated. \n",
      "In a future release, Dask DataFrame will use new implementation that\n",
      "contains several improvements including a logical query planning.\n",
      "The user-facing DataFrame API will remain unchanged.\n",
      "\n",
      "The new implementation is already available and can be enabled by\n",
      "installing the dask-expr library:\n",
      "\n",
      "    $ pip install dask-expr\n",
      "\n",
      "and turning the query planning option on:\n",
      "\n",
      "    >>> import dask\n",
      "    >>> dask.config.set({'dataframe.query-planning': True})\n",
      "    >>> import dask.dataframe as dd\n",
      "\n",
      "API documentation for the new implementation is available at\n",
      "https://docs.dask.org/en/stable/dask-expr-api.html\n",
      "\n",
      "Any feedback can be reported on the Dask issue tracker\n",
      "https://github.com/dask/dask/issues \n",
      "\n",
      "  import dask.dataframe as dd\n"
     ]
    }
   ],
   "source": [
    "import dask.dataframe as dd"
   ]
  },
  {
   "cell_type": "markdown",
   "metadata": {},
   "source": [
    "+ Load the environment variable `PRICE_DATA`.\n",
    "+ Use [glob](https://docs.python.org/3/library/glob.html) to find the path of all parquet files in the directory `PRICE_DATA`.\n",
    "\n",
    "(1pt)"
   ]
  },
  {
   "cell_type": "code",
   "execution_count": 3,
   "metadata": {},
   "outputs": [],
   "source": [
    "from glob import glob\n",
    "import os\n",
    "from dotenv import load_dotenv\n",
    "\n",
    "# Load environment variables\n",
    "load_dotenv()\n",
    "price_data_path = os.getenv(\"PRICE_DATA\")\n",
    "\n",
    "# Use recursive glob to find all `.parquet` files in `PRICE_DATA` and its subdirectories\n",
    "parquet_files = glob(os.path.join(price_data_path, '**', '*.parquet'), recursive=True)\n",
    "\n",
    "\n"
   ]
  },
  {
   "cell_type": "markdown",
   "metadata": {},
   "source": [
    "For each ticker and using Dask, do the following:\n",
    "\n",
    "+ Add lags for variables Close and Adj_Close.\n",
    "+ Add returns based on Adjusted Close:\n",
    "    \n",
    "    - `returns`: (Adj Close / Adj Close_lag) - 1\n",
    "\n",
    "+ Add the following range: \n",
    "\n",
    "    - `hi_lo_range`: this is the day's High minus Low.\n",
    "\n",
    "+ Assign the result to `dd_feat`.\n",
    "\n",
    "(4 pt)"
   ]
  },
  {
   "cell_type": "code",
   "execution_count": 101,
   "metadata": {},
   "outputs": [
    {
     "name": "stdout",
     "output_type": "stream",
     "text": [
      "        Date    Open    High     Low   Close  Adj Close   Volume       sector  \\\n",
      "0 2008-01-02  8.3725  8.4050  8.0650  8.0875   3.980135  5793600  Industrials   \n",
      "1 2008-01-03  8.1525  8.2875  8.1275  8.2425   4.056416  5339200  Industrials   \n",
      "2 2008-01-04  8.1625  8.1850  7.9025  7.9025   3.889090  5692400  Industrials   \n",
      "3 2008-01-07  7.9050  8.2175  7.9050  8.1175   3.994899  5946000  Industrials   \n",
      "4 2008-01-08  8.1350  8.1475  7.7750  7.7750   3.826344  6229600  Industrials   \n",
      "\n",
      "                      subsector  year Ticker  \n",
      "0  Diversified Support Services  2008   CTAS  \n",
      "1  Diversified Support Services  2008   CTAS  \n",
      "2  Diversified Support Services  2008   CTAS  \n",
      "3  Diversified Support Services  2008   CTAS  \n",
      "4  Diversified Support Services  2008   CTAS  \n"
     ]
    }
   ],
   "source": [
    "import os\n",
    "import pandas as pd\n",
    "\n",
    "# Specify the path to the price data folder\n",
    "price_data_path = '../../05_src/data/prices/'  # Updated path to the price data folder\n",
    "\n",
    "# Initialize a list to hold DataFrames for each ticker\n",
    "all_data = []\n",
    "\n",
    "# Loop through each ticker folder\n",
    "for ticker in os.listdir(price_data_path):\n",
    "    ticker_folder = os.path.join(price_data_path, ticker)\n",
    "    \n",
    "    # Check if it's a directory\n",
    "    if os.path.isdir(ticker_folder):\n",
    "        files_in_ticker_folder = os.listdir(ticker_folder)\n",
    "        \n",
    "        # Loop through each file in the ticker folder\n",
    "        for file in files_in_ticker_folder:\n",
    "            if file.endswith('.parquet'):\n",
    "                file_path = os.path.join(ticker_folder, file)\n",
    "                \n",
    "                # Read the .parquet file into a DataFrame\n",
    "                data = pd.read_parquet(file_path)\n",
    "                \n",
    "                # Optionally, add a column for the ticker symbol\n",
    "                data['Ticker'] = ticker\n",
    "                \n",
    "                # Append the DataFrame to the list\n",
    "                all_data.append(data)\n",
    "\n",
    "# Combine all DataFrames into one (if desired)\n",
    "combined_data = pd.concat(all_data, ignore_index=True)\n",
    "\n",
    "# Display the first few rows of the combined DataFrame\n",
    "print(combined_data.head())\n"
   ]
  },
  {
   "cell_type": "markdown",
   "metadata": {},
   "source": [
    "+ Convert the Dask data frame to a pandas data frame. \n",
    "+ Add a rolling average return calculation with a window of 10 days.\n",
    "+ *Tip*: Consider using `.rolling(10).mean()`.\n",
    "\n",
    "(3 pt)"
   ]
  },
  {
   "cell_type": "code",
   "execution_count": 6,
   "metadata": {},
   "outputs": [
    {
     "name": "stdout",
     "output_type": "stream",
     "text": [
      "        Date    Open    High     Low   Close  Adj Close   Volume       sector  \\\n",
      "0 2008-01-02  8.3725  8.4050  8.0650  8.0875   3.980135  5793600  Industrials   \n",
      "1 2008-01-03  8.1525  8.2875  8.1275  8.2425   4.056416  5339200  Industrials   \n",
      "2 2008-01-04  8.1625  8.1850  7.9025  7.9025   3.889090  5692400  Industrials   \n",
      "3 2008-01-07  7.9050  8.2175  7.9050  8.1175   3.994899  5946000  Industrials   \n",
      "4 2008-01-08  8.1350  8.1475  7.7750  7.7750   3.826344  6229600  Industrials   \n",
      "\n",
      "                      subsector  year Ticker   returns  Rolling_Avg_Return  \n",
      "0  Diversified Support Services  2008   CTAS       NaN                 NaN  \n",
      "1  Diversified Support Services  2008   CTAS  0.019166                 NaN  \n",
      "2  Diversified Support Services  2008   CTAS -0.041250                 NaN  \n",
      "3  Diversified Support Services  2008   CTAS  0.027207                 NaN  \n",
      "4  Diversified Support Services  2008   CTAS -0.042193                 NaN  \n"
     ]
    }
   ],
   "source": [
    "import os\n",
    "import pandas as pd\n",
    "import dask.dataframe as dd  \n",
    "from glob import glob\n",
    "from dotenv import load_dotenv\n",
    "\n",
    "# Load environment variables\n",
    "load_dotenv()\n",
    "price_data_path = os.getenv(\"PRICE_DATA\")\n",
    "\n",
    "# Use recursive glob to find all `.parquet` files in `PRICE_DATA` and its subdirectories\n",
    "parquet_files = glob(os.path.join(price_data_path, '**', '*.parquet'), recursive=True)\n",
    "\n",
    "# Initialize a list to hold DataFrames for each ticker\n",
    "all_data = []\n",
    "\n",
    "# Loop through each ticker folder\n",
    "for ticker in os.listdir(price_data_path):\n",
    "    ticker_folder = os.path.join(price_data_path, ticker)\n",
    "    # Check if it's a directory\n",
    "    if os.path.isdir(ticker_folder):\n",
    "        files_in_ticker_folder = os.listdir(ticker_folder)\n",
    "        # Loop through each file in the ticker folder\n",
    "        for file in files_in_ticker_folder:\n",
    "            if file.endswith('.parquet'):\n",
    "                file_path = os.path.join(ticker_folder, file)\n",
    "                # Read the .parquet file into a DataFrame\n",
    "                data = pd.read_parquet(file_path)\n",
    "                # Optionally, add a column for the ticker symbol\n",
    "                data['Ticker'] = ticker\n",
    "                # Append the DataFrame to the list\n",
    "                all_data.append(data)\n",
    "\n",
    "# Combine all DataFrames into one \n",
    "combined_data = pd.concat(all_data, ignore_index=True)\n",
    "\n",
    "# Convert the combined DataFrame to a Dask DataFrame\n",
    "dask_df = dd.from_pandas(combined_data, npartitions=2)  \n",
    "\n",
    "\n",
    "# Calculate returns \n",
    "dask_df['returns'] = (dask_df['Adj Close'] / dask_df['Adj Close'].shift(1)) - 1\n",
    "\n",
    "# Convert Dask DataFrame to Pandas DataFrame\n",
    "pandas_df = dask_df.compute()\n",
    "\n",
    "# Calculate the rolling average return with a 10-day window\n",
    "pandas_df['Rolling_Avg_Return'] = pandas_df['returns'].rolling(window=10).mean()\n",
    "\n",
    "# Display the first few rows of the final DataFrame\n",
    "print(pandas_df.head())\n"
   ]
  },
  {
   "cell_type": "markdown",
   "metadata": {},
   "source": [
    "Please comment:\n",
    "\n",
    "+ Was it necessary to convert to pandas to calculate the moving average return?\n",
    " Yes, in this case, switching to Pandas was helpful because, although Dask can perform rolling operations, Pandas often handles them more smoothly on smaller datasets. Using Dask for small data might actually introduce extra processing without real benefits, as Dask is optimized for larger-scale data.\n",
    "\n",
    "+ Would it have been better to do it in Dask? Why?\n",
    "For large datasets, Dask would likely be the better choice for calculating the rolling average. It’s designed to work efficiently with bigger data by managing memory better, breaking data into chunks, and only computing when necessary. This way, Dask can handle data sizes that might otherwise overwhelm Pandas.\n",
    "\n",
    "(1 pt)"
   ]
  },
  {
   "cell_type": "markdown",
   "metadata": {},
   "source": [
    "## Criteria\n",
    "\n",
    "The [rubric](./assignment_1_rubric_clean.xlsx) contains the criteria for grading."
   ]
  },
  {
   "cell_type": "markdown",
   "metadata": {},
   "source": [
    "## Submission Information\n",
    "\n",
    "🚨 **Please review our [Assignment Submission Guide](https://github.com/UofT-DSI/onboarding/blob/main/onboarding_documents/submissions.md)** 🚨 for detailed instructions on how to format, branch, and submit your work. Following these guidelines is crucial for your submissions to be evaluated correctly.\n",
    "\n",
    "### Submission Parameters:\n",
    "* Submission Due Date: `HH:MM AM/PM - DD/MM/YYYY`\n",
    "* The branch name for your repo should be: `assignment-1`\n",
    "* What to submit for this assignment:\n",
    "    * This Jupyter Notebook (assignment_1.ipynb) should be populated and should be the only change in your pull request.\n",
    "* What the pull request link should look like for this assignment: `https://github.com/<your_github_username>/production/pull/<pr_id>`\n",
    "    * Open a private window in your browser. Copy and paste the link to your pull request into the address bar. Make sure you can see your pull request properly. This helps the technical facilitator and learning support staff review your submission easily.\n",
    "\n",
    "Checklist:\n",
    "- [ ] Created a branch with the correct naming convention.\n",
    "- [ ] Ensured that the repository is public.\n",
    "- [ ] Reviewed the PR description guidelines and adhered to them.\n",
    "- [ ] Verify that the link is accessible in a private browser window.\n",
    "\n",
    "If you encounter any difficulties or have questions, please don't hesitate to reach out to our team via our Slack at `#cohort-3-help`. Our Technical Facilitators and Learning Support staff are here to help you navigate any challenges."
   ]
  }
 ],
 "metadata": {
  "kernelspec": {
   "display_name": "dsi_participant",
   "language": "python",
   "name": "python3"
  },
  "language_info": {
   "codemirror_mode": {
    "name": "ipython",
    "version": 3
   },
   "file_extension": ".py",
   "mimetype": "text/x-python",
   "name": "python",
   "nbconvert_exporter": "python",
   "pygments_lexer": "ipython3",
   "version": "3.9.18"
  }
 },
 "nbformat": 4,
 "nbformat_minor": 2
}
